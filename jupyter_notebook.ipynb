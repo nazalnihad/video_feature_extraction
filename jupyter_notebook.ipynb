{
 "cells": [
  {
   "cell_type": "code",
   "execution_count": null,
   "id": "f9076443",
   "metadata": {},
   "outputs": [
    {
     "name": "stdout",
     "output_type": "stream",
     "text": [
      "Collecting opencv-python\n",
      "  Downloading opencv_python-4.8.1.78-cp37-abi3-win_amd64.whl (38.1 MB)\n",
      "     ---------------------------------------- 38.1/38.1 MB 5.6 MB/s eta 0:00:00\n",
      "Requirement already satisfied: numpy>=1.17.3 in c:\\users\\nazal\\anaconda3\\lib\\site-packages (from opencv-python) (1.23.5)\n",
      "Installing collected packages: opencv-python\n",
      "Successfully installed opencv-python-4.8.1.78\n",
      "Note: you may need to restart the kernel to use updated packages.\n"
     ]
    },
    {
     "name": "stderr",
     "output_type": "stream",
     "text": [
      "\n",
      "[notice] A new release of pip is available: 23.0.1 -> 23.2.1\n",
      "[notice] To update, run: python.exe -m pip install --upgrade pip\n"
     ]
    }
   ],
   "source": [
    "pip install opencv-python"
   ]
  },
  {
   "cell_type": "code",
   "execution_count": 1,
   "id": "0fa4d9d8",
   "metadata": {},
   "outputs": [],
   "source": [
    "import cv2\n",
    "import os"
   ]
  },
  {
   "cell_type": "code",
   "execution_count": 4,
   "id": "53eaa527",
   "metadata": {},
   "outputs": [],
   "source": [
    "# video path\n",
    "path = input(\"Enter the video path : \")\n",
    "image_label = input(\"Enter the label : \")\n",
    "folder_name = input(\"folder : \")\n",
    "vid = cv2.VideoCapture(path)\n",
    "\n",
    "video_dir = os.path.dirname(path)\n",
    "output_dir = os.path.join(video_dir,folder_name)\n",
    "os.makedirs(output_dir,exist_ok=True)\n",
    "\n",
    "exist , images = vid.read()\n",
    "count = 0\n",
    "while True:\n",
    "    \n",
    "    exist , image = vid.read()\n",
    "    \n",
    "    if(not exist):\n",
    "        break\n",
    "    \n",
    "    label = os.path.join(output_dir,f\"{image_label+str(count)}.jpeg\")\n",
    "    cv2.imwrite(label , image)\n",
    "    count+=1"
   ]
  },
  {
   "cell_type": "code",
   "execution_count": 4,
   "id": "13cacbc4",
   "metadata": {},
   "outputs": [
    {
     "name": "stdout",
     "output_type": "stream",
     "text": [
      "Frames have been extracted and saved once every 7 frames.\n"
     ]
    }
   ],
   "source": [
    "import os\n",
    "import cv2\n",
    "\n",
    "# Input folder containing videos named \"Srimagram1.mp4\" through \"Srimagram8.mp4\"\n",
    "input_folder = \"D:/git/video_to_frame_augmentation/Kathakali dataset video/Sringaram/\"\n",
    "\n",
    "# Create output folder if it doesn't exist\n",
    "output_folder = \"Sringaram\"\n",
    "output_dir = os.path.join(input_folder, output_folder)\n",
    "os.makedirs(output_dir, exist_ok=True)\n",
    "\n",
    "# Number of videos and persons\n",
    "num_videos = 8\n",
    "\n",
    "# Iterate through videos\n",
    "for i in range(1, num_videos + 1):\n",
    "    video_name = f\"Sringaram {i}.mp4\"  \n",
    "    video_path = os.path.join(input_folder, video_name)\n",
    "    person_label = f\"person{i}\"\n",
    "    person_dir = os.path.join(output_dir, person_label)\n",
    "    os.makedirs(person_dir, exist_ok=True)\n",
    "\n",
    "    vid = cv2.VideoCapture(video_path)\n",
    "    count = 0\n",
    "    flag = 0\n",
    "    x = 7  # Save every x frames\n",
    "\n",
    "    while True:\n",
    "        exist, image = vid.read()\n",
    "\n",
    "        if not exist:\n",
    "            break\n",
    "\n",
    "        if flag % x == 0:\n",
    "            label = os.path.join(person_dir, f\"{person_label}_{count}.jpeg\")\n",
    "            cv2.imwrite(label, image)\n",
    "            count += 1\n",
    "        flag += 1\n",
    "\n",
    "    vid.release()\n",
    "\n",
    "print(\"Frames have been extracted and saved once every\", x, \"frames.\")\n"
   ]
  },
  {
   "cell_type": "code",
   "execution_count": 4,
   "id": "6dbe837a",
   "metadata": {},
   "outputs": [
    {
     "name": "stdout",
     "output_type": "stream",
     "text": [
      "Frames and key frames have been extracted and saved.\n"
     ]
    }
   ],
   "source": [
    "import os\n",
    "import cv2\n",
    "\n",
    "\n",
    "input_folder = \"D:/git/video_to_frame_augmentation/Kathakali dataset video/Adbutham/\"\n",
    "\n",
    "# Create output folder if it doesn't exist\n",
    "output_folder = \"Adbutham\"\n",
    "output_dir = os.path.join(input_folder, output_folder)\n",
    "os.makedirs(output_dir, exist_ok=True)\n",
    "\n",
    "# Number of videos and persons\n",
    "num_videos = 7\n",
    "\n",
    "# Iterate through videos\n",
    "for i in range(1, num_videos + 1):\n",
    "    video_name = f\"Adbutham {i}.mp4\"  \n",
    "    video_path = os.path.join(input_folder, video_name)\n",
    "    person_label = f\"person{i}\"\n",
    "    person_dir = os.path.join(output_dir, person_label)\n",
    "    os.makedirs(person_dir, exist_ok=True)\n",
    "\n",
    "    vid = cv2.VideoCapture(video_path)\n",
    "    count = 0\n",
    "    flag = 0\n",
    "    x = 7  # Save every x frames\n",
    "\n",
    "    # Variables for key frame extraction\n",
    "    prev_frame = None\n",
    "    min_frame_difference = 12000000# Adjust this threshold as needed\n",
    "\n",
    "    while True:\n",
    "        exist, image = vid.read()\n",
    "\n",
    "        if not exist:\n",
    "            break\n",
    "\n",
    "        if flag % x == 0:\n",
    "            label = os.path.join(person_dir, f\"{person_label}_{count}.jpeg\")\n",
    "            cv2.imwrite(label, image)\n",
    "            count += 1\n",
    "\n",
    "        if prev_frame is not None:\n",
    "            frame_difference = cv2.absdiff(prev_frame, image).sum()\n",
    "\n",
    "            if frame_difference > min_frame_difference:\n",
    "                keyframe_label = os.path.join(person_dir, f\"{person_label}_{count}.jpeg\")\n",
    "                cv2.imwrite(keyframe_label, image)\n",
    "                count += 1\n",
    "\n",
    "        flag += 1\n",
    "        prev_frame = image\n",
    "\n",
    "    vid.release()\n",
    "\n",
    "print(\"Frames and key frames have been extracted and saved.\")"
   ]
  },
  {
   "cell_type": "code",
   "execution_count": 19,
   "id": "a75754bb",
   "metadata": {},
   "outputs": [
    {
     "name": "stdout",
     "output_type": "stream",
     "text": [
      "548 files have been deleted from the folder.\n"
     ]
    }
   ],
   "source": [
    "import os\n",
    "import random\n",
    "\n",
    "def delete_files(folder_path, z):\n",
    "    # List all files in the folder\n",
    "    files = os.listdir(folder_path)\n",
    "\n",
    "    # Filter files based on the naming pattern \"personx_i.jpeg\"\n",
    "    filtered_files = [f for f in files if f.startswith(\"person3_\") and f.endswith(\".jpeg\")]\n",
    "\n",
    "    # Check if there are more files than needed (z)\n",
    "    if len(filtered_files) > z:\n",
    "        # Randomly select files to delete\n",
    "        files_to_delete = random.sample(filtered_files, len(filtered_files) - z)\n",
    "\n",
    "        for file_to_delete in files_to_delete:\n",
    "            file_path = os.path.join(folder_path, file_to_delete)\n",
    "            os.remove(file_path)\n",
    "\n",
    "    print(f\"{len(files_to_delete)} files have been deleted from the folder.\")\n",
    "\n",
    "\n",
    "# Example usage:\n",
    "folder_path = \"D:/git/video_to_frame_augmentation/Kathakali dataset video/Adbutham/Adbutham/person3/\"  # Replace with the actual folder path\n",
    "z = 150  # The number of files you want to keep\n",
    "x = 6\n",
    "delete_files(folder_path, z)\n"
   ]
  },
  {
   "cell_type": "code",
   "execution_count": 32,
   "id": "d55711f2",
   "metadata": {},
   "outputs": [
    {
     "name": "stdout",
     "output_type": "stream",
     "text": [
      "150 files have been renamed sequentially in the folder.\n"
     ]
    }
   ],
   "source": [
    "import os\n",
    "\n",
    "def rename_files_sequentially(folder_path, x,y):\n",
    "    # List all files in the folder\n",
    "    files = os.listdir(folder_path)\n",
    "\n",
    "    # Filter files based on the naming pattern \"personx_i.jpeg\"\n",
    "    filtered_files = [f for f in files if f.startswith(\"person\") and f.endswith(\".jpeg\")]\n",
    "\n",
    "    # Sort the files based on the number part (e.g., person3_2.jpeg -> 2)\n",
    "    filtered_files.sort(key=lambda f: int(f.split(\"_\")[1].split(\".\")[0]))\n",
    "\n",
    "    # Rename the files sequentially\n",
    "    for i, current_name in enumerate(filtered_files, start=0):\n",
    "        new_name = f\"person{y}_{i}.jpeg\"\n",
    "        current_path = os.path.join(folder_path, current_name)\n",
    "        new_path = os.path.join(folder_path, new_name)\n",
    "        os.rename(current_path, new_path)\n",
    "\n",
    "    print(f\"{x} files have been renamed sequentially in the folder.\")\n",
    "\n",
    "# Example usage:\n",
    "y=3\n",
    "folder_path = \"D:/git/video_to_frame_augmentation/Kathakali dataset video/Adbutham/Adbutham/person3/\"\n",
    "x = 150  # The number of files you want to keep\n",
    "rename_files_sequentially(folder_path, x,y)\n"
   ]
  }
 ],
 "metadata": {
  "kernelspec": {
   "display_name": "Python 3 (ipykernel)",
   "language": "python",
   "name": "python3"
  },
  "language_info": {
   "codemirror_mode": {
    "name": "ipython",
    "version": 3
   },
   "file_extension": ".py",
   "mimetype": "text/x-python",
   "name": "python",
   "nbconvert_exporter": "python",
   "pygments_lexer": "ipython3",
   "version": "3.11.6"
  }
 },
 "nbformat": 4,
 "nbformat_minor": 5
}
